{
 "cells": [
  {
   "cell_type": "code",
   "execution_count": 3,
   "id": "a77f4bd8",
   "metadata": {},
   "outputs": [
    {
     "name": "stdout",
     "output_type": "stream",
     "text": [
      "division by zero\n"
     ]
    }
   ],
   "source": [
    "try:\n",
    "    1/0\n",
    "except Exception as e:\n",
    "    print(e)"
   ]
  },
  {
   "cell_type": "code",
   "execution_count": 7,
   "id": "f3d6f465",
   "metadata": {},
   "outputs": [
    {
     "name": "stdout",
     "output_type": "stream",
     "text": [
      "object of type 'int' has no len()\n",
      "object of type 'int' has no len()\n",
      "object of type 'int' has no len()\n",
      "object of type 'int' has no len()\n",
      "5\n",
      "object of type 'complex' has no len()\n",
      "9\n",
      "list index out of range\n"
     ]
    }
   ],
   "source": [
    "l = [2,3,4,5,6,'Parth',7+9j,'Mindgraph']\n",
    "i = 1\n",
    "while i<=len(l):\n",
    "    try:\n",
    "        print(len(l[i]))\n",
    "    except Exception as error:\n",
    "        print(error)\n",
    "    i += 1"
   ]
  },
  {
   "cell_type": "code",
   "execution_count": 8,
   "id": "1932efe3",
   "metadata": {},
   "outputs": [
    {
     "ename": "ZeroDivisionError",
     "evalue": "division by zero",
     "output_type": "error",
     "traceback": [
      "\u001b[0;31m---------------------------------------------------------------------------\u001b[0m",
      "\u001b[0;31mZeroDivisionError\u001b[0m                         Traceback (most recent call last)",
      "\u001b[0;32m/tmp/ipykernel_7700/2762578531.py\u001b[0m in \u001b[0;36m<module>\u001b[0;34m\u001b[0m\n\u001b[0;32m----> 1\u001b[0;31m \u001b[0;36m1\u001b[0m\u001b[0;34m/\u001b[0m\u001b[0;36m0\u001b[0m \u001b[0;31m# syntactically fine but its a run time error as divison by zero, infinity is not present in python\u001b[0m\u001b[0;34m\u001b[0m\u001b[0;34m\u001b[0m\u001b[0m\n\u001b[0m",
      "\u001b[0;31mZeroDivisionError\u001b[0m: division by zero"
     ]
    }
   ],
   "source": [
    "1/0 # syntactically fine but its a run time error as divison by zero, infinity is not present in python"
   ]
  },
  {
   "cell_type": "code",
   "execution_count": 14,
   "id": "ceaa5fa8",
   "metadata": {},
   "outputs": [
    {
     "name": "stdout",
     "output_type": "stream",
     "text": [
      "division by zero\n",
      "this line will print\n"
     ]
    }
   ],
   "source": [
    "try:                   ## try block throws the error\n",
    "    1/0\n",
    "except Exception as e: ## e is the alias-name for exception  ## except lock handles the error\n",
    "    print(e)\n",
    "    print(\"this line will print\")"
   ]
  },
  {
   "cell_type": "code",
   "execution_count": 13,
   "id": "2558b7e9",
   "metadata": {},
   "outputs": [
    {
     "ename": "ZeroDivisionError",
     "evalue": "division by zero",
     "output_type": "error",
     "traceback": [
      "\u001b[0;31m---------------------------------------------------------------------------\u001b[0m",
      "\u001b[0;31mZeroDivisionError\u001b[0m                         Traceback (most recent call last)",
      "\u001b[0;32m/tmp/ipykernel_7700/1355553870.py\u001b[0m in \u001b[0;36m<module>\u001b[0;34m\u001b[0m\n\u001b[0;32m----> 1\u001b[0;31m \u001b[0;36m1\u001b[0m\u001b[0;34m/\u001b[0m\u001b[0;36m0\u001b[0m\u001b[0;34m\u001b[0m\u001b[0;34m\u001b[0m\u001b[0m\n\u001b[0m\u001b[1;32m      2\u001b[0m \u001b[0mprint\u001b[0m\u001b[0;34m(\u001b[0m\u001b[0;34m\"dadada\"\u001b[0m\u001b[0;34m)\u001b[0m \u001b[0;31m# the print message will not print because of python interpretor\u001b[0m\u001b[0;34m\u001b[0m\u001b[0;34m\u001b[0m\u001b[0m\n",
      "\u001b[0;31mZeroDivisionError\u001b[0m: division by zero"
     ]
    }
   ],
   "source": [
    "1/0\n",
    "print(\"dadada\") # the print message will not print because of python interpretor"
   ]
  },
  {
   "cell_type": "code",
   "execution_count": 15,
   "id": "b8e77859",
   "metadata": {},
   "outputs": [],
   "source": [
    "### Multiple try-except"
   ]
  },
  {
   "cell_type": "code",
   "execution_count": 16,
   "id": "587c2fa0",
   "metadata": {},
   "outputs": [],
   "source": [
    "a = 10"
   ]
  },
  {
   "cell_type": "code",
   "execution_count": 17,
   "id": "2201c093",
   "metadata": {},
   "outputs": [
    {
     "ename": "NameError",
     "evalue": "name 'A' is not defined",
     "output_type": "error",
     "traceback": [
      "\u001b[0;31m---------------------------------------------------------------------------\u001b[0m",
      "\u001b[0;31mNameError\u001b[0m                                 Traceback (most recent call last)",
      "\u001b[0;32m/tmp/ipykernel_7700/4219573356.py\u001b[0m in \u001b[0;36m<module>\u001b[0;34m\u001b[0m\n\u001b[0;32m----> 1\u001b[0;31m \u001b[0mA\u001b[0m     \u001b[0;31m## python is a case sensitive language\u001b[0m\u001b[0;34m\u001b[0m\u001b[0;34m\u001b[0m\u001b[0m\n\u001b[0m",
      "\u001b[0;31mNameError\u001b[0m: name 'A' is not defined"
     ]
    }
   ],
   "source": [
    "A     ## python is a case sensitive language "
   ]
  },
  {
   "cell_type": "code",
   "execution_count": 19,
   "id": "043e969b",
   "metadata": {},
   "outputs": [
    {
     "ename": "SyntaxError",
     "evalue": "unexpected EOF while parsing (3950323882.py, line 6)",
     "output_type": "error",
     "traceback": [
      "\u001b[0;36m  File \u001b[0;32m\"/tmp/ipykernel_7700/3950323882.py\"\u001b[0;36m, line \u001b[0;32m6\u001b[0m\n\u001b[0;31m    print(\"this line will print\")  ## if start a try-block then we need to end it with an except block, without an except block the try block will not execute\u001b[0m\n\u001b[0m                                                                                                                                                              ^\u001b[0m\n\u001b[0;31mSyntaxError\u001b[0m\u001b[0;31m:\u001b[0m unexpected EOF while parsing\n"
     ]
    }
   ],
   "source": [
    "try:\n",
    "    1/0\n",
    "except Exception as e:\n",
    "    print(e)\n",
    "try:\n",
    "    print(\"this line will print\")  ## if start a try-block then we need to end it with an except block, without an except block the try block will not execute"
   ]
  },
  {
   "cell_type": "code",
   "execution_count": 22,
   "id": "05c41819",
   "metadata": {},
   "outputs": [
    {
     "name": "stdout",
     "output_type": "stream",
     "text": [
      "division by zero\n",
      "xgfx\n"
     ]
    }
   ],
   "source": [
    "try:\n",
    "    1/0\n",
    "except Exception as e:\n",
    "    print(e)\n",
    "try:\n",
    "    print(\"xgfx\")  ## if the try block has no error then it will not go to the except block\n",
    "except:\n",
    "    print(\"asdas\")\n",
    "    \n",
    "    ### also to execute the exception block we need set Exception as a variable"
   ]
  },
  {
   "cell_type": "code",
   "execution_count": 23,
   "id": "1e98812c",
   "metadata": {},
   "outputs": [],
   "source": [
    "### Basic file handling"
   ]
  },
  {
   "cell_type": "code",
   "execution_count": 33,
   "id": "43740e9a",
   "metadata": {},
   "outputs": [
    {
     "data": {
      "text/plain": [
       "<_io.TextIOWrapper name='Numpy-session.ipynb' mode='r' encoding='UTF-8'>"
      ]
     },
     "execution_count": 33,
     "metadata": {},
     "output_type": "execute_result"
    }
   ],
   "source": [
    "open('Numpy-session.ipynb')  # r is read mode, by default it will open in read mode"
   ]
  },
  {
   "cell_type": "code",
   "execution_count": 34,
   "id": "614905df",
   "metadata": {},
   "outputs": [
    {
     "data": {
      "text/plain": [
       "<_io.TextIOWrapper name='Numpy-session.ipynb' mode='r' encoding='UTF-8'>"
      ]
     },
     "execution_count": 34,
     "metadata": {},
     "output_type": "execute_result"
    }
   ],
   "source": [
    "open('Numpy-session.ipynb','r')  # r is read mode but exclusively specified"
   ]
  },
  {
   "cell_type": "code",
   "execution_count": 35,
   "id": "b96ddd67",
   "metadata": {},
   "outputs": [
    {
     "data": {
      "text/plain": [
       "<_io.TextIOWrapper name='Numpy-session.ipynb' mode='w' encoding='UTF-8'>"
      ]
     },
     "execution_count": 35,
     "metadata": {},
     "output_type": "execute_result"
    }
   ],
   "source": [
    "open('Numpy-session.ipynb','w')  # w is write mode , exclusively specified"
   ]
  },
  {
   "cell_type": "code",
   "execution_count": 39,
   "id": "07dd7562",
   "metadata": {},
   "outputs": [
    {
     "ename": "FileNotFoundError",
     "evalue": "[Errno 2] No such file or directory: 'home/Desktop/bs-map.txt'",
     "output_type": "error",
     "traceback": [
      "\u001b[0;31m---------------------------------------------------------------------------\u001b[0m",
      "\u001b[0;31mFileNotFoundError\u001b[0m                         Traceback (most recent call last)",
      "\u001b[0;32m/tmp/ipykernel_7700/3522021109.py\u001b[0m in \u001b[0;36m<module>\u001b[0;34m\u001b[0m\n\u001b[0;32m----> 1\u001b[0;31m \u001b[0mf\u001b[0m \u001b[0;34m=\u001b[0m \u001b[0mopen\u001b[0m\u001b[0;34m(\u001b[0m\u001b[0;34m'home/Desktop/bs-map.txt'\u001b[0m\u001b[0;34m,\u001b[0m\u001b[0;34m'r'\u001b[0m\u001b[0;34m)\u001b[0m\u001b[0;34m\u001b[0m\u001b[0;34m\u001b[0m\u001b[0m\n\u001b[0m\u001b[1;32m      2\u001b[0m \u001b[0mf\u001b[0m\u001b[0;34m.\u001b[0m\u001b[0mread\u001b[0m\u001b[0;34m(\u001b[0m\u001b[0;34m)\u001b[0m\u001b[0;34m\u001b[0m\u001b[0;34m\u001b[0m\u001b[0m\n",
      "\u001b[0;31mFileNotFoundError\u001b[0m: [Errno 2] No such file or directory: 'home/Desktop/bs-map.txt'"
     ]
    }
   ],
   "source": [
    "f = open('home/Desktop/bs-map.txt','r')\n",
    "f.read()"
   ]
  },
  {
   "cell_type": "code",
   "execution_count": null,
   "id": "84d723d6",
   "metadata": {},
   "outputs": [],
   "source": [
    "            #  without using with statement\n",
    "            # file = open('file_path', 'w')\n",
    "            # try:\n",
    "            #     file.write('hello world')\n",
    "            # finally:\n",
    "            #     file.close()\n",
    "\n",
    "\n",
    "            # # using with statement\n",
    "            # with open('file_path', 'w') as file:\n",
    "            #     file.write('hello world !')"
   ]
  },
  {
   "cell_type": "code",
   "execution_count": 40,
   "id": "0df3b47c",
   "metadata": {},
   "outputs": [
    {
     "data": {
      "text/plain": [
       "'/home/partha/Desktop/python-prc'"
      ]
     },
     "execution_count": 40,
     "metadata": {},
     "output_type": "execute_result"
    }
   ],
   "source": [
    "pwd\n"
   ]
  },
  {
   "cell_type": "code",
   "execution_count": 45,
   "id": "8e340769",
   "metadata": {},
   "outputs": [],
   "source": [
    "fd = open(r'/home/partha/Desktop/bs-map')"
   ]
  },
  {
   "cell_type": "code",
   "execution_count": 46,
   "id": "d0a0b4a0",
   "metadata": {},
   "outputs": [
    {
     "data": {
      "text/plain": [
       "25"
      ]
     },
     "execution_count": 46,
     "metadata": {},
     "output_type": "execute_result"
    }
   ],
   "source": [
    "f = open(r'/home/partha/Desktop/bs-map','w')\n",
    "f.write(\"aasxa\\n ascacacac\\n caccaca\")"
   ]
  },
  {
   "cell_type": "code",
   "execution_count": 47,
   "id": "88569dc1",
   "metadata": {},
   "outputs": [],
   "source": [
    "f = open(r'/home/partha/Desktop/bs-map','r')"
   ]
  },
  {
   "cell_type": "code",
   "execution_count": null,
   "id": "c5722b32",
   "metadata": {},
   "outputs": [],
   "source": []
  }
 ],
 "metadata": {
  "kernelspec": {
   "display_name": "Python 3 (ipykernel)",
   "language": "python",
   "name": "python3"
  },
  "language_info": {
   "codemirror_mode": {
    "name": "ipython",
    "version": 3
   },
   "file_extension": ".py",
   "mimetype": "text/x-python",
   "name": "python",
   "nbconvert_exporter": "python",
   "pygments_lexer": "ipython3",
   "version": "3.9.7"
  }
 },
 "nbformat": 4,
 "nbformat_minor": 5
}
