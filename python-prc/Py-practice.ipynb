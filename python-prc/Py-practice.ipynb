{
 "cells": [
  {
   "cell_type": "code",
   "execution_count": null,
   "id": "8fccbacf",
   "metadata": {},
   "outputs": [],
   "source": [
    "a = int(input())\n",
    "b = str(a)\n",
    "n = int(b)\n",
    "rem = 0\n",
    "rev = ''\n",
    "i = len(b)-1\n",
    "while i>=0:\n",
    "    rem = n%10\n",
    "    rev = rev + str(rem)\n",
    "    n = n//10\n",
    "    i -= 1\n",
    "print(int(rev))"
   ]
  },
  {
   "cell_type": "code",
   "execution_count": null,
   "id": "88fd6e62",
   "metadata": {},
   "outputs": [],
   "source": [
    "a = int(input())\n",
    "b = int(input())\n",
    "if(a%2==0 and b%2==0):\n",
    "    if(a<b):\n",
    "        print(a)\n",
    "    else:\n",
    "        print(b)\n",
    "elif(a%2==0 and b%2!=0 or a%2!=0 and b%2==0):\n",
    "    if(a>b):\n",
    "        print(a)\n",
    "    else:\n",
    "        print(b)"
   ]
  },
  {
   "cell_type": "code",
   "execution_count": null,
   "id": "cae2ce11",
   "metadata": {},
   "outputs": [],
   "source": [
    "## Introduction to functions : Repeatable code "
   ]
  },
  {
   "cell_type": "code",
   "execution_count": null,
   "id": "910c1639",
   "metadata": {},
   "outputs": [],
   "source": [
    "## The def keyword"
   ]
  },
  {
   "cell_type": "code",
   "execution_count": null,
   "id": "0e8fd6e4",
   "metadata": {},
   "outputs": [],
   "source": [
    "x = int(input())\n",
    "def regular(x):\n",
    "    if(x==1):\n",
    "        print(\"hello world\")\n",
    "        \n",
    "regular(x)"
   ]
  },
  {
   "cell_type": "code",
   "execution_count": null,
   "id": "faec1050",
   "metadata": {},
   "outputs": [],
   "source": [
    "name = input()\n",
    "def naming(name):\n",
    "    print(\"Hello \"+name)\n",
    "    \n",
    "naming(name)"
   ]
  },
  {
   "cell_type": "code",
   "execution_count": null,
   "id": "0c03f4c1",
   "metadata": {},
   "outputs": [],
   "source": [
    "name = input()\n",
    "def naming(name):\n",
    "    return \"Hello \"+name\n",
    "    \n",
    "naming(name)"
   ]
  },
  {
   "cell_type": "code",
   "execution_count": null,
   "id": "1e8ad081",
   "metadata": {},
   "outputs": [],
   "source": [
    "n1 = int(input())\n",
    "n2 = int(input())\n",
    "\n",
    "def addition(n1,n2):\n",
    "    return n1 + n2\n",
    "\n",
    "addition(n1,n2)"
   ]
  },
  {
   "cell_type": "code",
   "execution_count": null,
   "id": "8712df86",
   "metadata": {},
   "outputs": [],
   "source": [
    "def hello():\n",
    "    return 'Hello'"
   ]
  },
  {
   "cell_type": "code",
   "execution_count": null,
   "id": "744fedc8",
   "metadata": {},
   "outputs": [],
   "source": [
    "hello()"
   ]
  },
  {
   "cell_type": "code",
   "execution_count": null,
   "id": "d503605d",
   "metadata": {},
   "outputs": [],
   "source": [
    "def say_name(name):\n",
    "    print(f'Hello {name}')"
   ]
  },
  {
   "cell_type": "code",
   "execution_count": null,
   "id": "96ea1d69",
   "metadata": {},
   "outputs": [],
   "source": [
    "say_name('Onimaru')"
   ]
  },
  {
   "cell_type": "code",
   "execution_count": null,
   "id": "b47578e2",
   "metadata": {},
   "outputs": [],
   "source": [
    "def say_name(name='Default'):\n",
    "    print(f'Hello {name}')"
   ]
  },
  {
   "cell_type": "code",
   "execution_count": null,
   "id": "c2ebc1bc",
   "metadata": {},
   "outputs": [],
   "source": [
    "say_name()   ## if no value is passed in the params then it will print the value set to it 'Default'"
   ]
  },
  {
   "cell_type": "code",
   "execution_count": null,
   "id": "9bc1027d",
   "metadata": {},
   "outputs": [],
   "source": [
    "say_name('Boomerang')"
   ]
  },
  {
   "cell_type": "code",
   "execution_count": null,
   "id": "e79764bd",
   "metadata": {},
   "outputs": [],
   "source": [
    "def add_num(num1,num2):\n",
    "    return num1 + num2"
   ]
  },
  {
   "cell_type": "code",
   "execution_count": null,
   "id": "7c429871",
   "metadata": {},
   "outputs": [],
   "source": [
    "add_num(3,8)"
   ]
  },
  {
   "cell_type": "code",
   "execution_count": null,
   "id": "dcf0f064",
   "metadata": {},
   "outputs": [],
   "source": [
    "sumup = add_num(3,8)"
   ]
  },
  {
   "cell_type": "code",
   "execution_count": null,
   "id": "1131ec69",
   "metadata": {},
   "outputs": [],
   "source": [
    "sumup"
   ]
  },
  {
   "cell_type": "code",
   "execution_count": null,
   "id": "b6cf0129",
   "metadata": {},
   "outputs": [],
   "source": [
    "add_num('10','20')"
   ]
  },
  {
   "cell_type": "code",
   "execution_count": null,
   "id": "a0b0cd5e",
   "metadata": {},
   "outputs": [],
   "source": [
    "def even(a):\n",
    "    if(a%2==0):\n",
    "        return 'even'\n",
    "    else:\n",
    "        return 'odd'"
   ]
  },
  {
   "cell_type": "code",
   "execution_count": null,
   "id": "9b0b73f0",
   "metadata": {},
   "outputs": [],
   "source": [
    "even(2)"
   ]
  },
  {
   "cell_type": "code",
   "execution_count": null,
   "id": "b1e9cbb2",
   "metadata": {},
   "outputs": [],
   "source": [
    "even(3)"
   ]
  },
  {
   "cell_type": "code",
   "execution_count": null,
   "id": "72064957",
   "metadata": {},
   "outputs": [],
   "source": [
    "a = int(input())\n",
    "def even(a):\n",
    "    if(a%2==0):\n",
    "        return 'even'\n",
    "    else:\n",
    "        return 'odd'\n",
    "even(a)"
   ]
  },
  {
   "cell_type": "code",
   "execution_count": null,
   "id": "826fa53f",
   "metadata": {},
   "outputs": [],
   "source": [
    "a = input()\n",
    "b = a.split(' ')\n",
    "c = []\n",
    "for i in b:\n",
    "    c.append(int(i))\n",
    "def check(c):\n",
    "    even = 0\n",
    "    odd = 0\n",
    "    for j in c:\n",
    "        if(j%2==0):\n",
    "            even += 1\n",
    "        else:\n",
    "            odd += 1\n",
    "    return 'Number of evens: ',even, 'Number of odds: ',odd\n",
    "check(c)"
   ]
  },
  {
   "cell_type": "code",
   "execution_count": null,
   "id": "5a3ca245",
   "metadata": {},
   "outputs": [],
   "source": [
    "def eo_check(z):\n",
    "    for i in z:\n",
    "        if i%2 == 0:\n",
    "            return True\n",
    "        else:\n",
    "            pass        ## if else has return Flase then it will break out of the loop,\n",
    "    return False        ## if the 'if' condition doesnt satisfy throughout the entire loop it returns False\n",
    "eo_check([1,2,3,5])"
   ]
  },
  {
   "cell_type": "code",
   "execution_count": null,
   "id": "c9c95b9e",
   "metadata": {},
   "outputs": [],
   "source": [
    "def eo_check(z):\n",
    "    even_l = []\n",
    "    for i in z:\n",
    "        if i%2 == 0:\n",
    "            even_l.append(i)\n",
    "        else:\n",
    "            pass\n",
    "    return even_l\n",
    "eo_check([1,2,3,5,4])"
   ]
  },
  {
   "cell_type": "code",
   "execution_count": null,
   "id": "5c50ad5e",
   "metadata": {},
   "outputs": [],
   "source": [
    "eo_check([1,3,5,7])"
   ]
  },
  {
   "cell_type": "code",
   "execution_count": null,
   "id": "0e8c8dae",
   "metadata": {},
   "outputs": [],
   "source": [
    "### Tuples unpacking with python functions "
   ]
  },
  {
   "cell_type": "code",
   "execution_count": null,
   "id": "4444ee42",
   "metadata": {},
   "outputs": [],
   "source": [
    "stock_prices = [('Apple',200),('Google',200),('Micromax',200)]"
   ]
  },
  {
   "cell_type": "code",
   "execution_count": null,
   "id": "088b77b0",
   "metadata": {},
   "outputs": [],
   "source": [
    "for i in stock_prices:\n",
    "    print(i)"
   ]
  },
  {
   "cell_type": "code",
   "execution_count": null,
   "id": "8bd26550",
   "metadata": {},
   "outputs": [],
   "source": [
    "for i,j in stock_prices:\n",
    "    print(i)"
   ]
  },
  {
   "cell_type": "code",
   "execution_count": null,
   "id": "5daa4aab",
   "metadata": {},
   "outputs": [],
   "source": [
    "for i,j in stock_prices:\n",
    "    print(j)"
   ]
  },
  {
   "cell_type": "code",
   "execution_count": null,
   "id": "2867ad35",
   "metadata": {},
   "outputs": [],
   "source": [
    "wrk_hrs = [('abby',100),('nethan',200),('cass',400)]\n",
    "hrs = 0\n",
    "st = ''\n",
    "for i,j in wrk_hrs:\n",
    "    if j>hrs:\n",
    "        hrs = j\n",
    "        st = i\n",
    "print(st,hrs)"
   ]
  },
  {
   "cell_type": "code",
   "execution_count": null,
   "id": "33489145",
   "metadata": {},
   "outputs": [],
   "source": [
    "def wrk(bc):\n",
    "    hrs = 0\n",
    "    st = ''\n",
    "    for i,j in wrk_hrs:\n",
    "        if j>hrs:\n",
    "            hrs = j\n",
    "            st = i\n",
    "    return st,hrs\n",
    "wrk([('abby',100),('nethan',200),('cass',400)])"
   ]
  },
  {
   "cell_type": "code",
   "execution_count": null,
   "id": "1cda1b2a",
   "metadata": {},
   "outputs": [],
   "source": [
    "name,hours = wrk([('abby',100),('nethan',200),('cass',400)])"
   ]
  },
  {
   "cell_type": "code",
   "execution_count": null,
   "id": "b28d4192",
   "metadata": {},
   "outputs": [],
   "source": [
    "name"
   ]
  },
  {
   "cell_type": "code",
   "execution_count": null,
   "id": "4d587918",
   "metadata": {},
   "outputs": [],
   "source": [
    "hours"
   ]
  },
  {
   "cell_type": "code",
   "execution_count": null,
   "id": "833152c3",
   "metadata": {},
   "outputs": [],
   "source": [
    "mylst = ['','','o']\n",
    "from random import shuffle \n",
    "def Guess_game():\n",
    "    shuffle(mylst)\n",
    "    g = int(input())\n",
    "    if mylst[g] != '':\n",
    "        return \"Correct\"\n",
    "    else:\n",
    "        return \"Wrong\"\n",
    "Guess_game()"
   ]
  },
  {
   "cell_type": "code",
   "execution_count": null,
   "id": "a101cc1a",
   "metadata": {},
   "outputs": [],
   "source": [
    "a = int(input())\n",
    "b = int(input())\n",
    "def pre(a,b):\n",
    "    sumup = a + b\n",
    "    per = (5/100)*sumup\n",
    "    return per\n",
    "pre(a,b)"
   ]
  },
  {
   "cell_type": "code",
   "execution_count": null,
   "id": "233ef857",
   "metadata": {},
   "outputs": [],
   "source": [
    "def myfc(*args):\n",
    "    sumup = (5/100)*args\n",
    "    return sumup\n",
    "myfc(10,2,1,2121)"
   ]
  },
  {
   "cell_type": "code",
   "execution_count": null,
   "id": "431593b9",
   "metadata": {},
   "outputs": [],
   "source": []
  },
  {
   "cell_type": "code",
   "execution_count": null,
   "id": "28f770e9",
   "metadata": {},
   "outputs": [],
   "source": [
    "st = input()\n",
    "def check(st):\n",
    "    if st == st[::-1]:\n",
    "        return \"Pallindrom string\"\n",
    "    else:\n",
    "        return \"Not pallindrom string\"\n",
    "check(st)"
   ]
  },
  {
   "cell_type": "code",
   "execution_count": null,
   "id": "f6fef9f5",
   "metadata": {},
   "outputs": [],
   "source": [
    "def ste(*args):\n",
    "    sumup = ()\n",
    "    sumup = sumup + args\n",
    "    for i in sumup:\n",
    "        for j in i:\n",
    "            j = j[::-1]\n",
    "            \n",
    "    return sumup\n",
    "            \n",
    "ste(['sdada','asdadas','adsaf'],['dsds','sdsds'])"
   ]
  },
  {
   "cell_type": "code",
   "execution_count": null,
   "id": "a90d63ff",
   "metadata": {},
   "outputs": [],
   "source": [
    "## Fibonacci series"
   ]
  },
  {
   "cell_type": "code",
   "execution_count": null,
   "id": "6da8fc32",
   "metadata": {},
   "outputs": [],
   "source": [
    "low = int(input())\n",
    "high = int(input())\n",
    "def fibonacci(low,high):\n",
    "    addup = 0\n",
    "    sumup = 0\n",
    "    k = 0\n",
    "    for i in range(low,high):\n",
    "        sumup = sumup + i\n",
    "        addup = sumup + (i-1)\n",
    "        print(addup)\n",
    "    return \"Fibonacci\"\n",
    "\n",
    "fibonacci(low,high)"
   ]
  },
  {
   "cell_type": "code",
   "execution_count": null,
   "id": "5158980d",
   "metadata": {},
   "outputs": [],
   "source": [
    "def myfunc(k):\n",
    "    ste = ''\n",
    "    for i in k:\n",
    "        if(ord(i)%2==0):\n",
    "            i.upper()\n",
    "            ste = ste + i\n",
    "        else:\n",
    "            i.lower()\n",
    "            ste = ste + i\n",
    "    return ste\n",
    "myfunc('Anthropomorphism')"
   ]
  },
  {
   "cell_type": "code",
   "execution_count": null,
   "id": "6469b380",
   "metadata": {},
   "outputs": [],
   "source": [
    "a = input(\"Enter a string\")\n",
    "c = a.split(' ')\n",
    "b = input()\n",
    "d = []\n",
    "def find(c):\n",
    "    for i in c:\n",
    "        if i[0] == b:\n",
    "            d.append(i)\n",
    "    return d\n",
    "find(c)"
   ]
  },
  {
   "cell_type": "code",
   "execution_count": null,
   "id": "4d4412be",
   "metadata": {},
   "outputs": [],
   "source": [
    "## Lambda practice, map n filters"
   ]
  },
  {
   "cell_type": "code",
   "execution_count": null,
   "id": "5d694dc1",
   "metadata": {},
   "outputs": [],
   "source": [
    "x = lambda a : a + 15\n",
    "x(5)"
   ]
  },
  {
   "cell_type": "code",
   "execution_count": null,
   "id": "ed7ac2ac",
   "metadata": {},
   "outputs": [],
   "source": [
    "x = lambda a,b : a * b\n",
    "x(2,3)"
   ]
  },
  {
   "cell_type": "code",
   "execution_count": null,
   "id": "2acd7a34",
   "metadata": {},
   "outputs": [],
   "source": [
    "def rust(a):\n",
    "    a = a + a\n",
    "    return a"
   ]
  },
  {
   "cell_type": "code",
   "execution_count": null,
   "id": "e06eaff8",
   "metadata": {},
   "outputs": [],
   "source": [
    "lst = [1,2,22,3,4,45,5]"
   ]
  },
  {
   "cell_type": "code",
   "execution_count": null,
   "id": "62a1d09e",
   "metadata": {},
   "outputs": [],
   "source": [
    "for i in (map(rust,lst)):\n",
    "    print(i)"
   ]
  },
  {
   "cell_type": "code",
   "execution_count": null,
   "id": "ab94e254",
   "metadata": {},
   "outputs": [],
   "source": [
    "def lsk(string):\n",
    "    if len(string)%2==0:\n",
    "        return 'Even'\n",
    "    else:\n",
    "        return 'Odd'"
   ]
  },
  {
   "cell_type": "code",
   "execution_count": null,
   "id": "c2dec563",
   "metadata": {},
   "outputs": [],
   "source": [
    "l = ['Andy','Oddin','core','apple']"
   ]
  },
  {
   "cell_type": "code",
   "execution_count": null,
   "id": "e9d1faf0",
   "metadata": {},
   "outputs": [],
   "source": [
    "list(map(lsk,l))"
   ]
  },
  {
   "cell_type": "code",
   "execution_count": null,
   "id": "a1155ae8",
   "metadata": {},
   "outputs": [],
   "source": [
    "tuple(map(lsk,l))"
   ]
  },
  {
   "cell_type": "code",
   "execution_count": null,
   "id": "a7e1ee51",
   "metadata": {},
   "outputs": [],
   "source": [
    "def pallindrome(num):\n",
    "    if num == num[::-1]:\n",
    "        return 'True'\n",
    "    else:\n",
    "        return 'False'"
   ]
  },
  {
   "cell_type": "code",
   "execution_count": null,
   "id": "3ffdb99e",
   "metadata": {},
   "outputs": [],
   "source": [
    "n = ['121','2332','1211','223']"
   ]
  },
  {
   "cell_type": "code",
   "execution_count": null,
   "id": "f8051998",
   "metadata": {},
   "outputs": [],
   "source": [
    "for i in (map(pallindrome,n)):\n",
    "    print(i)"
   ]
  },
  {
   "cell_type": "code",
   "execution_count": null,
   "id": "8cdbe602",
   "metadata": {},
   "outputs": [],
   "source": [
    "### Filter function"
   ]
  },
  {
   "cell_type": "code",
   "execution_count": null,
   "id": "dabab1d5",
   "metadata": {},
   "outputs": [],
   "source": [
    "def is_even(x):\n",
    "    if x%2==0:\n",
    "        return x"
   ]
  },
  {
   "cell_type": "code",
   "execution_count": null,
   "id": "1ce01227",
   "metadata": {},
   "outputs": [],
   "source": [
    "nums = [1,2,3,4,5,6,7,8,9]"
   ]
  },
  {
   "cell_type": "code",
   "execution_count": null,
   "id": "da9902bd",
   "metadata": {},
   "outputs": [],
   "source": [
    "list(filter(is_even,nums))      ## Difference between map and filter"
   ]
  },
  {
   "cell_type": "code",
   "execution_count": null,
   "id": "b252e06c",
   "metadata": {},
   "outputs": [],
   "source": [
    "list(map(is_even,nums))         ## Difference between map and filter"
   ]
  },
  {
   "cell_type": "code",
   "execution_count": null,
   "id": "2ecec363",
   "metadata": {},
   "outputs": [],
   "source": [
    "x = lambda a : a + 15\n",
    "x(5)"
   ]
  },
  {
   "cell_type": "code",
   "execution_count": null,
   "id": "2432d193",
   "metadata": {},
   "outputs": [],
   "source": [
    "b = int(input())\n",
    "x = lambda a : a * b\n",
    "x(5)"
   ]
  },
  {
   "cell_type": "code",
   "execution_count": null,
   "id": "075590f2",
   "metadata": {},
   "outputs": [],
   "source": [
    "mynums = [2,3,2,1,3,4,5]\n",
    "list(map(lambda a : a%2==0,mynums))"
   ]
  },
  {
   "cell_type": "code",
   "execution_count": null,
   "id": "f2d160e2",
   "metadata": {},
   "outputs": [],
   "source": [
    "mynums = [2,3,2,1,3,4,5]\n",
    "list(filter(lambda a : a%2==0,mynums))"
   ]
  },
  {
   "cell_type": "code",
   "execution_count": null,
   "id": "7dbb230f",
   "metadata": {},
   "outputs": [],
   "source": [
    "names = ['Andy','Sally','Nicolai']\n",
    "x = map(lambda a : a[0],names)"
   ]
  },
  {
   "cell_type": "code",
   "execution_count": null,
   "id": "ff95a714",
   "metadata": {},
   "outputs": [],
   "source": [
    "for i in x:\n",
    "    print(i)"
   ]
  },
  {
   "cell_type": "code",
   "execution_count": null,
   "id": "b4916d15",
   "metadata": {},
   "outputs": [],
   "source": [
    "names = ['Andy','Sally','Nicolai']\n",
    "list(map(lambda a : a[0],names))"
   ]
  },
  {
   "cell_type": "code",
   "execution_count": null,
   "id": "6392fe4b",
   "metadata": {},
   "outputs": [],
   "source": [
    "## volume of sphere\n",
    "\n",
    "x = lambda a : (4/3)*(3.14)*a**3\n",
    "x(3)"
   ]
  },
  {
   "cell_type": "code",
   "execution_count": null,
   "id": "ed75c4b5",
   "metadata": {},
   "outputs": [],
   "source": [
    "## number present in a given range\n",
    "x = lambda a,b,c :a in range(b,c)\n",
    "x(3,1,11)"
   ]
  },
  {
   "cell_type": "code",
   "execution_count": null,
   "id": "721d867f",
   "metadata": {},
   "outputs": [],
   "source": [
    "s = input(\"Enter a string: \")\n",
    "a = list(filter(lambda a: a.isupper(),s))\n",
    "b = list(filter(lambda a: a.islower(),s))\n",
    "print(a)\n",
    "print(b)"
   ]
  },
  {
   "cell_type": "code",
   "execution_count": null,
   "id": "66f64858",
   "metadata": {},
   "outputs": [],
   "source": [
    "### unique elements\n",
    "b = [1,1,2,2,2,3,3,3,4,4,4,4]\n",
    "a = list(set(b))\n",
    "print(a)"
   ]
  },
  {
   "cell_type": "code",
   "execution_count": null,
   "id": "2af6523f",
   "metadata": {},
   "outputs": [],
   "source": [
    "## multiply all the numbers in a list\n",
    "x = lambda a: a*(a+1)\n",
    "x([1,2,3,4,5,6,7,8,9])"
   ]
  },
  {
   "cell_type": "code",
   "execution_count": null,
   "id": "8caccd38",
   "metadata": {},
   "outputs": [],
   "source": [
    "### OOPs concept in python"
   ]
  },
  {
   "cell_type": "code",
   "execution_count": null,
   "id": "2f9d09da",
   "metadata": {},
   "outputs": [],
   "source": [
    "class Dog():\n",
    "    def __init__(self,breed):\n",
    "        self.breed = breed"
   ]
  },
  {
   "cell_type": "code",
   "execution_count": null,
   "id": "8ce7c9b8",
   "metadata": {},
   "outputs": [],
   "source": [
    "mydog = Dog(breed=123)"
   ]
  },
  {
   "cell_type": "code",
   "execution_count": null,
   "id": "8e07fb6c",
   "metadata": {},
   "outputs": [],
   "source": [
    "type(mydog)"
   ]
  },
  {
   "cell_type": "code",
   "execution_count": null,
   "id": "8ddbd754",
   "metadata": {},
   "outputs": [],
   "source": [
    "mydog.breed"
   ]
  },
  {
   "cell_type": "code",
   "execution_count": null,
   "id": "68776f49",
   "metadata": {},
   "outputs": [],
   "source": [
    "class Dog():\n",
    "    def __init__(self,mybreed):\n",
    "        self.breed = mybreed"
   ]
  },
  {
   "cell_type": "code",
   "execution_count": null,
   "id": "35486404",
   "metadata": {},
   "outputs": [],
   "source": [
    "mydogo = Dog(mybreed = 'Huskie')"
   ]
  },
  {
   "cell_type": "code",
   "execution_count": null,
   "id": "f6b4b728",
   "metadata": {},
   "outputs": [],
   "source": [
    "mydogo.breed"
   ]
  },
  {
   "cell_type": "code",
   "execution_count": null,
   "id": "b6c40ad0",
   "metadata": {},
   "outputs": [],
   "source": [
    "class Dog():\n",
    "    speices : \"mammal\"\n",
    "    def __init__(self,mybreed,name):\n",
    "        self.breed = mybreed\n",
    "        self.myname = name\n",
    "        \n",
    "    def bark(self):\n",
    "        print(\"WOOF!\")"
   ]
  },
  {
   "cell_type": "code",
   "execution_count": null,
   "id": "5c7dbebf",
   "metadata": {},
   "outputs": [],
   "source": [
    "mydogi = Dog('lab','Frankie')"
   ]
  },
  {
   "cell_type": "code",
   "execution_count": null,
   "id": "f5a239d1",
   "metadata": {},
   "outputs": [],
   "source": [
    "mydogi.breed"
   ]
  },
  {
   "cell_type": "code",
   "execution_count": null,
   "id": "7a1dfb0d",
   "metadata": {},
   "outputs": [],
   "source": [
    "mydogi.myname"
   ]
  },
  {
   "cell_type": "code",
   "execution_count": null,
   "id": "e760ec85",
   "metadata": {},
   "outputs": [],
   "source": [
    "mydogi.bark()   # method calling"
   ]
  },
  {
   "cell_type": "code",
   "execution_count": null,
   "id": "867c9618",
   "metadata": {},
   "outputs": [],
   "source": [
    "class Circle():\n",
    "    \n",
    "    pi = 3.14\n",
    "    \n",
    "    def __init__(self,radius = 1):\n",
    "        self.radius = radius\n",
    "    \n",
    "    def circumference(self):\n",
    "        return self.radius * self.pi * 2"
   ]
  },
  {
   "cell_type": "code",
   "execution_count": null,
   "id": "4291892f",
   "metadata": {},
   "outputs": [],
   "source": [
    "my_circle = Circle(30)   ### Assigning value of radius through self"
   ]
  },
  {
   "cell_type": "code",
   "execution_count": null,
   "id": "bd8ce000",
   "metadata": {},
   "outputs": [],
   "source": [
    "my_circle.radius"
   ]
  },
  {
   "cell_type": "code",
   "execution_count": null,
   "id": "2acaa378",
   "metadata": {},
   "outputs": [],
   "source": [
    "my_circle.circumference()"
   ]
  },
  {
   "cell_type": "code",
   "execution_count": null,
   "id": "1666a769",
   "metadata": {},
   "outputs": [],
   "source": [
    "###  Using Functools.reduce () with methods"
   ]
  },
  {
   "cell_type": "code",
   "execution_count": null,
   "id": "e58bcfdd",
   "metadata": {},
   "outputs": [],
   "source": [
    "## functools.reduce() takes in two paramteres 1st is a function , 2nd is the object then func to be implemented on"
   ]
  },
  {
   "cell_type": "code",
   "execution_count": null,
   "id": "3cacfbf1",
   "metadata": {},
   "outputs": [],
   "source": [
    "import functools\n",
    " \n",
    "# initializing list\n",
    "lis = [1, 3, 5, 6, 2, ]\n",
    " \n",
    "# using reduce to compute sum of list\n",
    "print(\"The sum of the list elements is : \", end=\"\")\n",
    "print(functools.reduce(lambda a, b: a+b, lis))"
   ]
  },
  {
   "cell_type": "code",
   "execution_count": null,
   "id": "9a5433d7",
   "metadata": {},
   "outputs": [],
   "source": [
    "\n",
    "# python code to demonstrate working of reduce()\n",
    "# using operator functions\n",
    " \n",
    "# importing functools for reduce()\n",
    "import functools\n",
    " \n",
    "# importing operator for operator functions\n",
    "import operator\n",
    " \n",
    "# initializing list\n",
    "lis = [1, 3, 5, 6, 2, ]\n",
    " \n",
    "# using reduce to compute sum of list\n",
    "# using operator functions\n",
    "print(\"The sum of the list elements is : \", end=\"\")\n",
    "print(functools.reduce(operator.add, lis))\n",
    " "
   ]
  },
  {
   "cell_type": "code",
   "execution_count": null,
   "id": "9794697b",
   "metadata": {},
   "outputs": [],
   "source": [
    "import functools\n",
    "\n",
    "import operator\n",
    "\n",
    "lis = [1,2,3,4,5]\n",
    "\n",
    "print(functools.reduce(operator.mul,lis))"
   ]
  },
  {
   "cell_type": "code",
   "execution_count": null,
   "id": "b3d885a7",
   "metadata": {},
   "outputs": [],
   "source": [
    "import functools\n",
    "\n",
    "import operator\n",
    "\n",
    "lis = [1,2,3,4,5]\n",
    "\n",
    "print(functools.reduce(operator.truediv,lis))"
   ]
  },
  {
   "cell_type": "code",
   "execution_count": null,
   "id": "7143f085",
   "metadata": {},
   "outputs": [],
   "source": [
    "import functools\n",
    "\n",
    "lis = [1,2,3,4,5,6]\n",
    "print(functools.reduce(lambda x : x+1,lis))"
   ]
  },
  {
   "cell_type": "code",
   "execution_count": null,
   "id": "2c173c91",
   "metadata": {},
   "outputs": [],
   "source": [
    "def factorial(x):\n",
    "    if(x==1):\n",
    "        return 1\n",
    "    else:\n",
    "        return x * factorial(x-1)\n",
    "x = 3\n",
    "print(\"the factorial of {} is {}\".format(x,factorial(x)))"
   ]
  },
  {
   "cell_type": "code",
   "execution_count": null,
   "id": "1cc6a560",
   "metadata": {},
   "outputs": [],
   "source": [
    "def tri_recursion(k):\n",
    "    if(k>0):\n",
    "        result = k + tri_recursion(k-1)\n",
    "        print(result)\n",
    "        return result\n",
    "    else:\n",
    "        result = 0\n",
    "        return result\n",
    "    \n",
    "tri_recursion(6)"
   ]
  },
  {
   "cell_type": "code",
   "execution_count": null,
   "id": "81ab64ae",
   "metadata": {},
   "outputs": [],
   "source": [
    "def func(x):\n",
    "    n = lambda x: x*x*x*x\n",
    "    print(n(2))"
   ]
  },
  {
   "cell_type": "code",
   "execution_count": null,
   "id": "d1c82b06",
   "metadata": {},
   "outputs": [],
   "source": [
    "func(x)"
   ]
  },
  {
   "cell_type": "code",
   "execution_count": null,
   "id": "0dc08292",
   "metadata": {},
   "outputs": [],
   "source": [
    "class Line():\n",
    "    def __init__(self,coor1,coor2):\n",
    "        self.coordinate1 = coor1\n",
    "        self.coordinate2 = coor2\n",
    "    def prt(self):\n",
    "        print(type(self.coordinate1))\n",
    "        print(type(self.coordinate2))"
   ]
  },
  {
   "cell_type": "code",
   "execution_count": null,
   "id": "22a294b6",
   "metadata": {},
   "outputs": [],
   "source": [
    "my_line = Line((2,1),(3,4))"
   ]
  },
  {
   "cell_type": "code",
   "execution_count": null,
   "id": "19690027",
   "metadata": {},
   "outputs": [],
   "source": [
    "my_line.prt()"
   ]
  },
  {
   "cell_type": "code",
   "execution_count": null,
   "id": "39bb8706",
   "metadata": {},
   "outputs": [],
   "source": [
    "import math\n",
    "class Line():\n",
    "    def __init__(self,coor1,coor2):\n",
    "        self.coordinate1 = coor1\n",
    "        self.coordinate2 = coor2\n",
    "    def distance(self):\n",
    "        x2 = self.coordinate2[0]\n",
    "        x1 = self.coordinate1[0]\n",
    "        y2 = self.coordinate2[1]\n",
    "        y1 = self.coordinate1[1]\n",
    "        return math.sqrt(((x2-x1)**2)+((y2-y1)**2))\n",
    "    def slope(self):\n",
    "        x2 = self.coordinate2[0]\n",
    "        x1 = self.coordinate1[0]\n",
    "        y2 = self.coordinate2[1]\n",
    "        y1 = self.coordinate1[1]\n",
    "        m = ((y2-y1)/(x2-x1))\n",
    "        return m"
   ]
  },
  {
   "cell_type": "code",
   "execution_count": null,
   "id": "751d50aa",
   "metadata": {},
   "outputs": [],
   "source": [
    "my_line = Line((3,1),(2,4))"
   ]
  },
  {
   "cell_type": "code",
   "execution_count": null,
   "id": "96ce195f",
   "metadata": {},
   "outputs": [],
   "source": [
    "my_line.distance()"
   ]
  },
  {
   "cell_type": "code",
   "execution_count": null,
   "id": "c43ecca7",
   "metadata": {},
   "outputs": [],
   "source": [
    "my_line.slope()"
   ]
  },
  {
   "cell_type": "code",
   "execution_count": null,
   "id": "0bbc112f",
   "metadata": {},
   "outputs": [],
   "source": [
    "tup = (1,2,3,4,5)\n",
    "print(tup[-1])"
   ]
  },
  {
   "cell_type": "code",
   "execution_count": null,
   "id": "ee97da8b",
   "metadata": {},
   "outputs": [],
   "source": [
    "pi = 3.142"
   ]
  },
  {
   "cell_type": "code",
   "execution_count": null,
   "id": "055c3e4a",
   "metadata": {},
   "outputs": [],
   "source": [
    "class Cylinder():\n",
    "    def __init__(self,height,radius):\n",
    "        self.h = height\n",
    "        self.r = radius\n",
    "    def volume(self):\n",
    "        v = pi*self.r*self.r*self.h\n",
    "        return v\n",
    "    def surface_area(self):\n",
    "        sa = (2*pi*self.r*self.h)+(2*pi*self.r*self.r)\n",
    "        return sa"
   ]
  },
  {
   "cell_type": "code",
   "execution_count": null,
   "id": "11895d0c",
   "metadata": {},
   "outputs": [],
   "source": [
    "my_cylinder = Cylinder(4,3)"
   ]
  },
  {
   "cell_type": "code",
   "execution_count": null,
   "id": "e28f4581",
   "metadata": {},
   "outputs": [],
   "source": [
    "my_cylinder.volume()"
   ]
  },
  {
   "cell_type": "code",
   "execution_count": null,
   "id": "1eb75ada",
   "metadata": {},
   "outputs": [],
   "source": [
    "my_cylinder.surface_area()"
   ]
  },
  {
   "cell_type": "code",
   "execution_count": null,
   "id": "8bab409d",
   "metadata": {},
   "outputs": [],
   "source": []
  },
  {
   "cell_type": "code",
   "execution_count": null,
   "id": "a8800b33",
   "metadata": {},
   "outputs": [],
   "source": [
    "class Bank:\n",
    "    def __init__(self,check):\n",
    "        self.check = check\n",
    "    def Deposit(self,depo):\n",
    "        self.depo = depo\n",
    "        self.check = self.check + self.depo\n",
    "        return \"Balance updated \", self.check\n",
    "    def Withdraw(self,wdraw):\n",
    "        self.wdraw = wdraw\n",
    "        self.check = self.check - self.wdraw\n",
    "        return \"Balance deducted \", self.check"
   ]
  },
  {
   "cell_type": "code",
   "execution_count": null,
   "id": "36022bb9",
   "metadata": {},
   "outputs": [],
   "source": [
    "my_acc = Bank(200)"
   ]
  },
  {
   "cell_type": "code",
   "execution_count": null,
   "id": "54f801dd",
   "metadata": {},
   "outputs": [],
   "source": [
    "my_acc.Deposit(100)"
   ]
  },
  {
   "cell_type": "code",
   "execution_count": null,
   "id": "03e600b6",
   "metadata": {},
   "outputs": [],
   "source": [
    "my_acc.Withdraw(300000)"
   ]
  },
  {
   "cell_type": "code",
   "execution_count": null,
   "id": "31dd7532",
   "metadata": {},
   "outputs": [],
   "source": [
    "a = input()\n",
    "b = input()\n",
    "c = a + b\n",
    "d = set(c)\n",
    "sre = \"\"\n",
    "for i in d:\n",
    "    sre = sre + i\n",
    "    \n",
    "print(sre)"
   ]
  },
  {
   "cell_type": "code",
   "execution_count": 5,
   "id": "0c7f74ec",
   "metadata": {},
   "outputs": [
    {
     "name": "stdout",
     "output_type": "stream",
     "text": [
      "asreiods\n",
      "s\n",
      "i\n",
      "['a', 'e', 'i', 's', 'r', 'o', 'd', 's']\n"
     ]
    }
   ],
   "source": [
    "a = input()\n",
    "b = list(a)\n",
    "lis = []\n",
    "i=1\n",
    "j = 0\n",
    "while(i<=len(b)):\n",
    "    if(b[j]=='a' or b[j]=='e' or b[j]=='i' or b[j]=='o' or b[j]=='u'):\n",
    "        lis.append(b[j])\n",
    "        b.pop(j)\n",
    "        print(b[j])\n",
    "        if(b[j]=='a' or b[j]=='e' or b[j]=='i' or b[j]=='o' or b[j]=='u'):\n",
    "            lis.append(b[j])\n",
    "            b.pop(j)\n",
    "    j+=1\n",
    "    i+=1\n",
    "lis.extend(b)\n",
    "print(lis)"
   ]
  },
  {
   "cell_type": "code",
   "execution_count": 7,
   "id": "e8cbc89d",
   "metadata": {},
   "outputs": [
    {
     "name": "stdout",
     "output_type": "stream",
     "text": [
      "347CDHcdhABab\n"
     ]
    }
   ],
   "source": [
    "a = \"125ABFabfYZyz\"\n",
    "ste = \"\"\n",
    "for i in a :\n",
    "    if type(i) == int:\n",
    "        k = i + 2\n",
    "        j = str(k)\n",
    "        ste = ste + j\n",
    "    elif i == 'y':\n",
    "        ste = ste + \"a\"\n",
    "    elif i == 'Y':\n",
    "        ste = ste + \"A\"\n",
    "    elif i == 'z':\n",
    "        ste = ste + \"b\"\n",
    "    elif i == 'Z':\n",
    "        ste = ste + \"B\"\n",
    "    else:\n",
    "        x = ord(i)+2\n",
    "        y = chr(x)\n",
    "        ste = ste + y\n",
    "\n",
    "print(ste)"
   ]
  },
  {
   "cell_type": "code",
   "execution_count": 8,
   "id": "7beba02f",
   "metadata": {},
   "outputs": [],
   "source": [
    "\n",
    "y = lambda x:f\"{x} is even\" if x%2 == 0 else f\"{x} is odd\"  "
   ]
  },
  {
   "cell_type": "code",
   "execution_count": 10,
   "id": "b9b44941",
   "metadata": {},
   "outputs": [
    {
     "data": {
      "text/plain": [
       "'5 is odd'"
      ]
     },
     "execution_count": 10,
     "metadata": {},
     "output_type": "execute_result"
    }
   ],
   "source": [
    "y(5)"
   ]
  },
  {
   "cell_type": "code",
   "execution_count": 19,
   "id": "5c5bae20",
   "metadata": {},
   "outputs": [
    {
     "ename": "TypeError",
     "evalue": "unsupported operand type(s) for %: 'list' and 'int'",
     "output_type": "error",
     "traceback": [
      "\u001b[0;31m---------------------------------------------------------------------------\u001b[0m",
      "\u001b[0;31mTypeError\u001b[0m                                 Traceback (most recent call last)",
      "\u001b[0;32m/tmp/ipykernel_3402/1352187995.py\u001b[0m in \u001b[0;36m<module>\u001b[0;34m\u001b[0m\n\u001b[1;32m      1\u001b[0m \u001b[0mmynums\u001b[0m \u001b[0;34m=\u001b[0m \u001b[0;34m[\u001b[0m\u001b[0;36m2\u001b[0m\u001b[0;34m,\u001b[0m\u001b[0;36m3\u001b[0m\u001b[0;34m,\u001b[0m\u001b[0;36m2\u001b[0m\u001b[0;34m,\u001b[0m\u001b[0;36m1\u001b[0m\u001b[0;34m,\u001b[0m\u001b[0;36m3\u001b[0m\u001b[0;34m,\u001b[0m\u001b[0;36m4\u001b[0m\u001b[0;34m,\u001b[0m\u001b[0;36m5\u001b[0m\u001b[0;34m]\u001b[0m\u001b[0;34m\u001b[0m\u001b[0;34m\u001b[0m\u001b[0m\n\u001b[1;32m      2\u001b[0m \u001b[0mx\u001b[0m \u001b[0;34m=\u001b[0m \u001b[0;32mlambda\u001b[0m \u001b[0ma\u001b[0m \u001b[0;34m:\u001b[0m \u001b[0ma\u001b[0m\u001b[0;34m%\u001b[0m\u001b[0;36m2\u001b[0m\u001b[0;34m==\u001b[0m\u001b[0;36m0\u001b[0m\u001b[0;34m\u001b[0m\u001b[0;34m\u001b[0m\u001b[0m\n\u001b[0;32m----> 3\u001b[0;31m \u001b[0mx\u001b[0m\u001b[0;34m(\u001b[0m\u001b[0;34m[\u001b[0m\u001b[0;36m2\u001b[0m\u001b[0;34m,\u001b[0m\u001b[0;36m3\u001b[0m\u001b[0;34m,\u001b[0m\u001b[0;36m2\u001b[0m\u001b[0;34m,\u001b[0m\u001b[0;36m1\u001b[0m\u001b[0;34m,\u001b[0m\u001b[0;36m3\u001b[0m\u001b[0;34m,\u001b[0m\u001b[0;36m4\u001b[0m\u001b[0;34m,\u001b[0m\u001b[0;36m5\u001b[0m\u001b[0;34m]\u001b[0m\u001b[0;34m)\u001b[0m\u001b[0;34m\u001b[0m\u001b[0;34m\u001b[0m\u001b[0m\n\u001b[0m",
      "\u001b[0;32m/tmp/ipykernel_3402/1352187995.py\u001b[0m in \u001b[0;36m<lambda>\u001b[0;34m(a)\u001b[0m\n\u001b[1;32m      1\u001b[0m \u001b[0mmynums\u001b[0m \u001b[0;34m=\u001b[0m \u001b[0;34m[\u001b[0m\u001b[0;36m2\u001b[0m\u001b[0;34m,\u001b[0m\u001b[0;36m3\u001b[0m\u001b[0;34m,\u001b[0m\u001b[0;36m2\u001b[0m\u001b[0;34m,\u001b[0m\u001b[0;36m1\u001b[0m\u001b[0;34m,\u001b[0m\u001b[0;36m3\u001b[0m\u001b[0;34m,\u001b[0m\u001b[0;36m4\u001b[0m\u001b[0;34m,\u001b[0m\u001b[0;36m5\u001b[0m\u001b[0;34m]\u001b[0m\u001b[0;34m\u001b[0m\u001b[0;34m\u001b[0m\u001b[0m\n\u001b[0;32m----> 2\u001b[0;31m \u001b[0mx\u001b[0m \u001b[0;34m=\u001b[0m \u001b[0;32mlambda\u001b[0m \u001b[0ma\u001b[0m \u001b[0;34m:\u001b[0m \u001b[0ma\u001b[0m\u001b[0;34m%\u001b[0m\u001b[0;36m2\u001b[0m\u001b[0;34m==\u001b[0m\u001b[0;36m0\u001b[0m\u001b[0;34m\u001b[0m\u001b[0;34m\u001b[0m\u001b[0m\n\u001b[0m\u001b[1;32m      3\u001b[0m \u001b[0mx\u001b[0m\u001b[0;34m(\u001b[0m\u001b[0;34m[\u001b[0m\u001b[0;36m2\u001b[0m\u001b[0;34m,\u001b[0m\u001b[0;36m3\u001b[0m\u001b[0;34m,\u001b[0m\u001b[0;36m2\u001b[0m\u001b[0;34m,\u001b[0m\u001b[0;36m1\u001b[0m\u001b[0;34m,\u001b[0m\u001b[0;36m3\u001b[0m\u001b[0;34m,\u001b[0m\u001b[0;36m4\u001b[0m\u001b[0;34m,\u001b[0m\u001b[0;36m5\u001b[0m\u001b[0;34m]\u001b[0m\u001b[0;34m)\u001b[0m\u001b[0;34m\u001b[0m\u001b[0;34m\u001b[0m\u001b[0m\n",
      "\u001b[0;31mTypeError\u001b[0m: unsupported operand type(s) for %: 'list' and 'int'"
     ]
    }
   ],
   "source": [
    "mynums = [2,3,2,1,3,4,5]\n",
    "x = lambda a : a%2==0\n",
    "x([2,3,2,1,3,4,5])"
   ]
  },
  {
   "cell_type": "code",
   "execution_count": 24,
   "id": "f6b8241a",
   "metadata": {},
   "outputs": [
    {
     "name": "stdout",
     "output_type": "stream",
     "text": [
      "python\n"
     ]
    },
    {
     "data": {
      "text/plain": [
       "'onpythay'"
      ]
     },
     "execution_count": 24,
     "metadata": {},
     "output_type": "execute_result"
    }
   ],
   "source": [
    "st = input()\n",
    "ls = []\n",
    "vowel_ls = [\"a\", \"e\", \"i\", \"o\", \"u\"]\n",
    "for i in st:\n",
    "    if i in vowel_ls:\n",
    "        idx = st.index(i)\n",
    "        ls.append(st[idx:])\n",
    "        ls.append(st[:idx])\n",
    "        ls.append(\"ay\")\n",
    "\"\".join(ls)"
   ]
  },
  {
   "cell_type": "code",
   "execution_count": 27,
   "id": "21d4119f",
   "metadata": {},
   "outputs": [
    {
     "name": "stdout",
     "output_type": "stream",
     "text": [
      "/home/partha/Desktop/python-prc\n"
     ]
    }
   ],
   "source": [
    "import os \n",
    "\n",
    "def current_directory():\n",
    "    cwd = os.getcwd()\n",
    "    print(cwd)\n",
    "    \n",
    "    \n",
    "current_directory() "
   ]
  },
  {
   "cell_type": "code",
   "execution_count": 30,
   "id": "3f4c88cb",
   "metadata": {},
   "outputs": [],
   "source": [
    "dest = \"/home/partha/Desktop/WorkSpace/sample.text\""
   ]
  },
  {
   "cell_type": "code",
   "execution_count": 32,
   "id": "d8f308dc",
   "metadata": {},
   "outputs": [],
   "source": [
    "from os import path\n",
    "\n",
    "def createfile(dest):\n",
    "    if not(path.isfile(dest)):   ## if the file doesnt exists as per the given destination path then execute the following\n",
    "        f = open(dest,'w')\n",
    "        f.write(\"Welcome to scripting\")\n",
    "        f.close()\n",
    "createfile(dest)"
   ]
  },
  {
   "cell_type": "code",
   "execution_count": 38,
   "id": "39a59a9e",
   "metadata": {},
   "outputs": [
    {
     "ename": "SMTPAuthenticationError",
     "evalue": "(535, b'5.7.8 Username and Password not accepted. Learn more at\\n5.7.8  https://support.google.com/mail/?p=BadCredentials 139-20020a630591000000b00462612c2699sm1977577pgf.86 - gsmtp')",
     "output_type": "error",
     "traceback": [
      "\u001b[0;31m---------------------------------------------------------------------------\u001b[0m",
      "\u001b[0;31mSMTPAuthenticationError\u001b[0m                   Traceback (most recent call last)",
      "\u001b[0;32m/tmp/ipykernel_3402/389775254.py\u001b[0m in \u001b[0;36m<module>\u001b[0;34m\u001b[0m\n\u001b[1;32m      4\u001b[0m \u001b[0msmtpObj\u001b[0m\u001b[0;34m.\u001b[0m\u001b[0mehlo\u001b[0m\u001b[0;34m(\u001b[0m\u001b[0;34m)\u001b[0m\u001b[0;34m\u001b[0m\u001b[0;34m\u001b[0m\u001b[0m\n\u001b[1;32m      5\u001b[0m \u001b[0msmtpObj\u001b[0m\u001b[0;34m.\u001b[0m\u001b[0mstarttls\u001b[0m\u001b[0;34m(\u001b[0m\u001b[0;34m)\u001b[0m\u001b[0;34m\u001b[0m\u001b[0;34m\u001b[0m\u001b[0m\n\u001b[0;32m----> 6\u001b[0;31m \u001b[0msmtpObj\u001b[0m\u001b[0;34m.\u001b[0m\u001b[0mlogin\u001b[0m\u001b[0;34m(\u001b[0m\u001b[0;34m'parth.byteiq@gmail.com'\u001b[0m\u001b[0;34m,\u001b[0m\u001b[0;34m'Parth231598'\u001b[0m\u001b[0;34m)\u001b[0m\u001b[0;34m\u001b[0m\u001b[0;34m\u001b[0m\u001b[0m\n\u001b[0m\u001b[1;32m      7\u001b[0m \u001b[0msmtpObj\u001b[0m\u001b[0;34m.\u001b[0m\u001b[0msendmail\u001b[0m\u001b[0;34m(\u001b[0m\u001b[0;34m'parth.byteiq@gmail.com'\u001b[0m\u001b[0;34m,\u001b[0m\u001b[0;34m'parthxmm@gmail.com'\u001b[0m\u001b[0;34m,\u001b[0m\u001b[0;34m'Welcome'\u001b[0m\u001b[0;34m)\u001b[0m\u001b[0;34m\u001b[0m\u001b[0;34m\u001b[0m\u001b[0m\n\u001b[1;32m      8\u001b[0m \u001b[0msmtpObj\u001b[0m\u001b[0;34m.\u001b[0m\u001b[0mquit\u001b[0m\u001b[0;34m(\u001b[0m\u001b[0;34m)\u001b[0m\u001b[0;34m\u001b[0m\u001b[0;34m\u001b[0m\u001b[0m\n",
      "\u001b[0;32m~/anaconda3/lib/python3.9/smtplib.py\u001b[0m in \u001b[0;36mlogin\u001b[0;34m(self, user, password, initial_response_ok)\u001b[0m\n\u001b[1;32m    748\u001b[0m \u001b[0;34m\u001b[0m\u001b[0m\n\u001b[1;32m    749\u001b[0m         \u001b[0;31m# We could not login successfully.  Return result of last attempt.\u001b[0m\u001b[0;34m\u001b[0m\u001b[0;34m\u001b[0m\u001b[0m\n\u001b[0;32m--> 750\u001b[0;31m         \u001b[0;32mraise\u001b[0m \u001b[0mlast_exception\u001b[0m\u001b[0;34m\u001b[0m\u001b[0;34m\u001b[0m\u001b[0m\n\u001b[0m\u001b[1;32m    751\u001b[0m \u001b[0;34m\u001b[0m\u001b[0m\n\u001b[1;32m    752\u001b[0m     \u001b[0;32mdef\u001b[0m \u001b[0mstarttls\u001b[0m\u001b[0;34m(\u001b[0m\u001b[0mself\u001b[0m\u001b[0;34m,\u001b[0m \u001b[0mkeyfile\u001b[0m\u001b[0;34m=\u001b[0m\u001b[0;32mNone\u001b[0m\u001b[0;34m,\u001b[0m \u001b[0mcertfile\u001b[0m\u001b[0;34m=\u001b[0m\u001b[0;32mNone\u001b[0m\u001b[0;34m,\u001b[0m \u001b[0mcontext\u001b[0m\u001b[0;34m=\u001b[0m\u001b[0;32mNone\u001b[0m\u001b[0;34m)\u001b[0m\u001b[0;34m:\u001b[0m\u001b[0;34m\u001b[0m\u001b[0;34m\u001b[0m\u001b[0m\n",
      "\u001b[0;32m~/anaconda3/lib/python3.9/smtplib.py\u001b[0m in \u001b[0;36mlogin\u001b[0;34m(self, user, password, initial_response_ok)\u001b[0m\n\u001b[1;32m    737\u001b[0m             \u001b[0mmethod_name\u001b[0m \u001b[0;34m=\u001b[0m \u001b[0;34m'auth_'\u001b[0m \u001b[0;34m+\u001b[0m \u001b[0mauthmethod\u001b[0m\u001b[0;34m.\u001b[0m\u001b[0mlower\u001b[0m\u001b[0;34m(\u001b[0m\u001b[0;34m)\u001b[0m\u001b[0;34m.\u001b[0m\u001b[0mreplace\u001b[0m\u001b[0;34m(\u001b[0m\u001b[0;34m'-'\u001b[0m\u001b[0;34m,\u001b[0m \u001b[0;34m'_'\u001b[0m\u001b[0;34m)\u001b[0m\u001b[0;34m\u001b[0m\u001b[0;34m\u001b[0m\u001b[0m\n\u001b[1;32m    738\u001b[0m             \u001b[0;32mtry\u001b[0m\u001b[0;34m:\u001b[0m\u001b[0;34m\u001b[0m\u001b[0;34m\u001b[0m\u001b[0m\n\u001b[0;32m--> 739\u001b[0;31m                 (code, resp) = self.auth(\n\u001b[0m\u001b[1;32m    740\u001b[0m                     \u001b[0mauthmethod\u001b[0m\u001b[0;34m,\u001b[0m \u001b[0mgetattr\u001b[0m\u001b[0;34m(\u001b[0m\u001b[0mself\u001b[0m\u001b[0;34m,\u001b[0m \u001b[0mmethod_name\u001b[0m\u001b[0;34m)\u001b[0m\u001b[0;34m,\u001b[0m\u001b[0;34m\u001b[0m\u001b[0;34m\u001b[0m\u001b[0m\n\u001b[1;32m    741\u001b[0m                     initial_response_ok=initial_response_ok)\n",
      "\u001b[0;32m~/anaconda3/lib/python3.9/smtplib.py\u001b[0m in \u001b[0;36mauth\u001b[0;34m(self, mechanism, authobject, initial_response_ok)\u001b[0m\n\u001b[1;32m    660\u001b[0m         \u001b[0;32mif\u001b[0m \u001b[0mcode\u001b[0m \u001b[0;32min\u001b[0m \u001b[0;34m(\u001b[0m\u001b[0;36m235\u001b[0m\u001b[0;34m,\u001b[0m \u001b[0;36m503\u001b[0m\u001b[0;34m)\u001b[0m\u001b[0;34m:\u001b[0m\u001b[0;34m\u001b[0m\u001b[0;34m\u001b[0m\u001b[0m\n\u001b[1;32m    661\u001b[0m             \u001b[0;32mreturn\u001b[0m \u001b[0;34m(\u001b[0m\u001b[0mcode\u001b[0m\u001b[0;34m,\u001b[0m \u001b[0mresp\u001b[0m\u001b[0;34m)\u001b[0m\u001b[0;34m\u001b[0m\u001b[0;34m\u001b[0m\u001b[0m\n\u001b[0;32m--> 662\u001b[0;31m         \u001b[0;32mraise\u001b[0m \u001b[0mSMTPAuthenticationError\u001b[0m\u001b[0;34m(\u001b[0m\u001b[0mcode\u001b[0m\u001b[0;34m,\u001b[0m \u001b[0mresp\u001b[0m\u001b[0;34m)\u001b[0m\u001b[0;34m\u001b[0m\u001b[0;34m\u001b[0m\u001b[0m\n\u001b[0m\u001b[1;32m    663\u001b[0m \u001b[0;34m\u001b[0m\u001b[0m\n\u001b[1;32m    664\u001b[0m     \u001b[0;32mdef\u001b[0m \u001b[0mauth_cram_md5\u001b[0m\u001b[0;34m(\u001b[0m\u001b[0mself\u001b[0m\u001b[0;34m,\u001b[0m \u001b[0mchallenge\u001b[0m\u001b[0;34m=\u001b[0m\u001b[0;32mNone\u001b[0m\u001b[0;34m)\u001b[0m\u001b[0;34m:\u001b[0m\u001b[0;34m\u001b[0m\u001b[0;34m\u001b[0m\u001b[0m\n",
      "\u001b[0;31mSMTPAuthenticationError\u001b[0m: (535, b'5.7.8 Username and Password not accepted. Learn more at\\n5.7.8  https://support.google.com/mail/?p=BadCredentials 139-20020a630591000000b00462612c2699sm1977577pgf.86 - gsmtp')"
     ]
    }
   ],
   "source": [
    "import smtplib \n",
    "\n",
    "smtpObj = smtplib.SMTP('smtp.gmail.com','587')\n",
    "smtpObj.ehlo()\n",
    "smtpObj.starttls()\n",
    "smtpObj.login('parth.byteiq@gmail.com','Parth231598')\n",
    "smtpObj.sendmail('parth.byteiq@gmail.com','parthxmm@gmail.com','Welcome')\n",
    "smtpObj.quit()"
   ]
  },
  {
   "cell_type": "code",
   "execution_count": null,
   "id": "89c7ee83",
   "metadata": {},
   "outputs": [],
   "source": []
  },
  {
   "cell_type": "code",
   "execution_count": null,
   "id": "eceabad1",
   "metadata": {},
   "outputs": [],
   "source": []
  },
  {
   "cell_type": "code",
   "execution_count": null,
   "id": "088039c9",
   "metadata": {},
   "outputs": [],
   "source": []
  },
  {
   "cell_type": "code",
   "execution_count": null,
   "id": "39f6292c",
   "metadata": {},
   "outputs": [],
   "source": []
  },
  {
   "cell_type": "code",
   "execution_count": null,
   "id": "069b9019",
   "metadata": {},
   "outputs": [],
   "source": []
  },
  {
   "cell_type": "code",
   "execution_count": null,
   "id": "0bc84b8e",
   "metadata": {},
   "outputs": [],
   "source": []
  }
 ],
 "metadata": {
  "kernelspec": {
   "display_name": "Python 3 (ipykernel)",
   "language": "python",
   "name": "python3"
  },
  "language_info": {
   "codemirror_mode": {
    "name": "ipython",
    "version": 3
   },
   "file_extension": ".py",
   "mimetype": "text/x-python",
   "name": "python",
   "nbconvert_exporter": "python",
   "pygments_lexer": "ipython3",
   "version": "3.9.7"
  }
 },
 "nbformat": 4,
 "nbformat_minor": 5
}
