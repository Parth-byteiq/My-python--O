{
 "cells": [
  {
   "cell_type": "code",
   "execution_count": 27,
   "id": "fe4f7759",
   "metadata": {},
   "outputs": [
    {
     "name": "stdout",
     "output_type": "stream",
     "text": [
      "1\n",
      "9\n",
      "The number with higher divisors is 8\n"
     ]
    }
   ],
   "source": [
    "low = int(input())\n",
    "high = int(input())\n",
    "store = 0\n",
    "final = 0\n",
    "j = 0\n",
    "count = 0\n",
    "for i in range(low,high+1):\n",
    "    j = i\n",
    "    while(j>0):\n",
    "        if(i%j==0):\n",
    "            count += 1\n",
    "        j -= 1\n",
    "    if(count>final):\n",
    "        final = count\n",
    "        count = 0\n",
    "        store = i\n",
    "    else:\n",
    "        final = 0\n",
    "print(\"The number with higher divisors is {}\".format(store))    "
   ]
  },
  {
   "cell_type": "code",
   "execution_count": 22,
   "id": "ff958971",
   "metadata": {},
   "outputs": [
    {
     "name": "stdout",
     "output_type": "stream",
     "text": [
      "8\n",
      "4\n",
      "2\n",
      "1\n"
     ]
    }
   ],
   "source": [
    "k = 8\n",
    "l = k\n",
    "while(l>0):\n",
    "    if(k%l==0):\n",
    "        print(l)\n",
    "    l -= 1"
   ]
  },
  {
   "cell_type": "code",
   "execution_count": 1,
   "id": "555a47e4",
   "metadata": {},
   "outputs": [
    {
     "name": "stdout",
     "output_type": "stream",
     "text": [
      "6\n",
      "144\n",
      "234\n",
      "8946\n"
     ]
    }
   ],
   "source": [
    "ls = [2, 3, 45, 56, 234, 43, 1, 8946]\n",
    "so1 = 0\n",
    "so2 = 0\n",
    "so3 = 0\n",
    "so4 = 0\n",
    "for i in ls:\n",
    "    if(len(str(i))==1):\n",
    "        so1 = so1 + i\n",
    "    elif(len(str(i))==2):\n",
    "        so2 = so2 + i\n",
    "    elif(len(str(i))==3):\n",
    "        so3 = so3 + i\n",
    "    elif(len(str(i))==4):\n",
    "        so4 = so4 + i\n",
    "print(so1)\n",
    "print(so2)\n",
    "print(so3)\n",
    "print(so4)"
   ]
  },
  {
   "cell_type": "code",
   "execution_count": 17,
   "id": "1f88e798",
   "metadata": {},
   "outputs": [],
   "source": [
    "sdts = [\n",
    "    {'student_id': 1, 'math_score': 72, 'physics_score': 72, 'chemistry_score': 74}, \n",
    "    {'student_id': 2, 'math_score': 69, 'physics_score': 90, 'chemistry_score': 88},\n",
    "    {'student_id': 3, 'math_score': 90, 'physics_score': 95, 'chemistry_score': 93},\n",
    "    {'student_id': 4, 'math_score': 47, 'physics_score': 47, 'chemistry_score': 44},\n",
    "    {'student_id': 5, 'math_score': 76, 'physics_score': 78, 'chemistry_score': 75},\n",
    "    {'student_id': 6, 'math_score': 71, 'physics_score': 83, 'chemistry_score': 78}\n",
    "]"
   ]
  },
  {
   "cell_type": "code",
   "execution_count": 36,
   "id": "2552eb99",
   "metadata": {},
   "outputs": [
    {
     "name": "stdout",
     "output_type": "stream",
     "text": [
      "[{'student_id': 1, 'math_score': 72, 'physics_score': 72, 'chemistry_score': 74, 'total': 218}, {'student_id': 2, 'math_score': 69, 'physics_score': 90, 'chemistry_score': 88, 'total': 247}, {'student_id': 3, 'math_score': 90, 'physics_score': 95, 'chemistry_score': 93, 'total': 278}, {'student_id': 4, 'math_score': 47, 'physics_score': 47, 'chemistry_score': 44, 'total': 138}, {'student_id': 5, 'math_score': 76, 'physics_score': 78, 'chemistry_score': 75, 'total': 229}, {'student_id': 6, 'math_score': 71, 'physics_score': 83, 'chemistry_score': 78, 'total': 232}]\n"
     ]
    }
   ],
   "source": [
    "total = 0\n",
    "for i in sdts:\n",
    "    total = i['math_score']+i['physics_score']+i['chemistry_score']\n",
    "    i.update({'total':total})\n",
    "print(sdts)"
   ]
  },
  {
   "cell_type": "code",
   "execution_count": 6,
   "id": "859cc532",
   "metadata": {},
   "outputs": [
    {
     "ename": "SMTPAuthenticationError",
     "evalue": "(535, b'5.7.8 Username and Password not accepted. Learn more at\\n5.7.8  https://support.google.com/mail/?p=BadCredentials k17-20020a170902c41100b0017f8094a52asm6880315plk.29 - gsmtp')",
     "output_type": "error",
     "traceback": [
      "\u001b[0;31m---------------------------------------------------------------------------\u001b[0m",
      "\u001b[0;31mSMTPAuthenticationError\u001b[0m                   Traceback (most recent call last)",
      "\u001b[0;32m/tmp/ipykernel_31502/3622639714.py\u001b[0m in \u001b[0;36m<module>\u001b[0;34m\u001b[0m\n\u001b[1;32m      4\u001b[0m \u001b[0msmtpObj\u001b[0m\u001b[0;34m.\u001b[0m\u001b[0mehlo\u001b[0m\u001b[0;34m(\u001b[0m\u001b[0;34m)\u001b[0m\u001b[0;34m\u001b[0m\u001b[0;34m\u001b[0m\u001b[0m\n\u001b[1;32m      5\u001b[0m \u001b[0msmtpObj\u001b[0m\u001b[0;34m.\u001b[0m\u001b[0mstarttls\u001b[0m\u001b[0;34m(\u001b[0m\u001b[0;34m)\u001b[0m\u001b[0;34m\u001b[0m\u001b[0;34m\u001b[0m\u001b[0m\n\u001b[0;32m----> 6\u001b[0;31m \u001b[0msmtpObj\u001b[0m\u001b[0;34m.\u001b[0m\u001b[0mlogin\u001b[0m\u001b[0;34m(\u001b[0m\u001b[0;34m\"patnaik_vineet\"\u001b[0m\u001b[0;34m,\u001b[0m\u001b[0;34m\"Venky0121\"\u001b[0m\u001b[0;34m)\u001b[0m\u001b[0;34m\u001b[0m\u001b[0;34m\u001b[0m\u001b[0m\n\u001b[0m\u001b[1;32m      7\u001b[0m \u001b[0msmtpObj\u001b[0m\u001b[0;34m.\u001b[0m\u001b[0msendmail\u001b[0m\u001b[0;34m(\u001b[0m\u001b[0;34m\"patnaik_vineet@yahoo.com\"\u001b[0m\u001b[0;34m,\u001b[0m\u001b[0;34m\"parthxmm@gmail.com\"\u001b[0m\u001b[0;34m,\u001b[0m\u001b[0;34m\"Welcome\"\u001b[0m\u001b[0;34m)\u001b[0m\u001b[0;34m\u001b[0m\u001b[0;34m\u001b[0m\u001b[0m\n\u001b[1;32m      8\u001b[0m \u001b[0msmtpObj\u001b[0m\u001b[0;34m.\u001b[0m\u001b[0mquit\u001b[0m\u001b[0;34m(\u001b[0m\u001b[0;34m)\u001b[0m\u001b[0;34m\u001b[0m\u001b[0;34m\u001b[0m\u001b[0m\n",
      "\u001b[0;32m~/anaconda3/lib/python3.9/smtplib.py\u001b[0m in \u001b[0;36mlogin\u001b[0;34m(self, user, password, initial_response_ok)\u001b[0m\n\u001b[1;32m    748\u001b[0m \u001b[0;34m\u001b[0m\u001b[0m\n\u001b[1;32m    749\u001b[0m         \u001b[0;31m# We could not login successfully.  Return result of last attempt.\u001b[0m\u001b[0;34m\u001b[0m\u001b[0;34m\u001b[0m\u001b[0m\n\u001b[0;32m--> 750\u001b[0;31m         \u001b[0;32mraise\u001b[0m \u001b[0mlast_exception\u001b[0m\u001b[0;34m\u001b[0m\u001b[0;34m\u001b[0m\u001b[0m\n\u001b[0m\u001b[1;32m    751\u001b[0m \u001b[0;34m\u001b[0m\u001b[0m\n\u001b[1;32m    752\u001b[0m     \u001b[0;32mdef\u001b[0m \u001b[0mstarttls\u001b[0m\u001b[0;34m(\u001b[0m\u001b[0mself\u001b[0m\u001b[0;34m,\u001b[0m \u001b[0mkeyfile\u001b[0m\u001b[0;34m=\u001b[0m\u001b[0;32mNone\u001b[0m\u001b[0;34m,\u001b[0m \u001b[0mcertfile\u001b[0m\u001b[0;34m=\u001b[0m\u001b[0;32mNone\u001b[0m\u001b[0;34m,\u001b[0m \u001b[0mcontext\u001b[0m\u001b[0;34m=\u001b[0m\u001b[0;32mNone\u001b[0m\u001b[0;34m)\u001b[0m\u001b[0;34m:\u001b[0m\u001b[0;34m\u001b[0m\u001b[0;34m\u001b[0m\u001b[0m\n",
      "\u001b[0;32m~/anaconda3/lib/python3.9/smtplib.py\u001b[0m in \u001b[0;36mlogin\u001b[0;34m(self, user, password, initial_response_ok)\u001b[0m\n\u001b[1;32m    737\u001b[0m             \u001b[0mmethod_name\u001b[0m \u001b[0;34m=\u001b[0m \u001b[0;34m'auth_'\u001b[0m \u001b[0;34m+\u001b[0m \u001b[0mauthmethod\u001b[0m\u001b[0;34m.\u001b[0m\u001b[0mlower\u001b[0m\u001b[0;34m(\u001b[0m\u001b[0;34m)\u001b[0m\u001b[0;34m.\u001b[0m\u001b[0mreplace\u001b[0m\u001b[0;34m(\u001b[0m\u001b[0;34m'-'\u001b[0m\u001b[0;34m,\u001b[0m \u001b[0;34m'_'\u001b[0m\u001b[0;34m)\u001b[0m\u001b[0;34m\u001b[0m\u001b[0;34m\u001b[0m\u001b[0m\n\u001b[1;32m    738\u001b[0m             \u001b[0;32mtry\u001b[0m\u001b[0;34m:\u001b[0m\u001b[0;34m\u001b[0m\u001b[0;34m\u001b[0m\u001b[0m\n\u001b[0;32m--> 739\u001b[0;31m                 (code, resp) = self.auth(\n\u001b[0m\u001b[1;32m    740\u001b[0m                     \u001b[0mauthmethod\u001b[0m\u001b[0;34m,\u001b[0m \u001b[0mgetattr\u001b[0m\u001b[0;34m(\u001b[0m\u001b[0mself\u001b[0m\u001b[0;34m,\u001b[0m \u001b[0mmethod_name\u001b[0m\u001b[0;34m)\u001b[0m\u001b[0;34m,\u001b[0m\u001b[0;34m\u001b[0m\u001b[0;34m\u001b[0m\u001b[0m\n\u001b[1;32m    741\u001b[0m                     initial_response_ok=initial_response_ok)\n",
      "\u001b[0;32m~/anaconda3/lib/python3.9/smtplib.py\u001b[0m in \u001b[0;36mauth\u001b[0;34m(self, mechanism, authobject, initial_response_ok)\u001b[0m\n\u001b[1;32m    660\u001b[0m         \u001b[0;32mif\u001b[0m \u001b[0mcode\u001b[0m \u001b[0;32min\u001b[0m \u001b[0;34m(\u001b[0m\u001b[0;36m235\u001b[0m\u001b[0;34m,\u001b[0m \u001b[0;36m503\u001b[0m\u001b[0;34m)\u001b[0m\u001b[0;34m:\u001b[0m\u001b[0;34m\u001b[0m\u001b[0;34m\u001b[0m\u001b[0m\n\u001b[1;32m    661\u001b[0m             \u001b[0;32mreturn\u001b[0m \u001b[0;34m(\u001b[0m\u001b[0mcode\u001b[0m\u001b[0;34m,\u001b[0m \u001b[0mresp\u001b[0m\u001b[0;34m)\u001b[0m\u001b[0;34m\u001b[0m\u001b[0;34m\u001b[0m\u001b[0m\n\u001b[0;32m--> 662\u001b[0;31m         \u001b[0;32mraise\u001b[0m \u001b[0mSMTPAuthenticationError\u001b[0m\u001b[0;34m(\u001b[0m\u001b[0mcode\u001b[0m\u001b[0;34m,\u001b[0m \u001b[0mresp\u001b[0m\u001b[0;34m)\u001b[0m\u001b[0;34m\u001b[0m\u001b[0;34m\u001b[0m\u001b[0m\n\u001b[0m\u001b[1;32m    663\u001b[0m \u001b[0;34m\u001b[0m\u001b[0m\n\u001b[1;32m    664\u001b[0m     \u001b[0;32mdef\u001b[0m \u001b[0mauth_cram_md5\u001b[0m\u001b[0;34m(\u001b[0m\u001b[0mself\u001b[0m\u001b[0;34m,\u001b[0m \u001b[0mchallenge\u001b[0m\u001b[0;34m=\u001b[0m\u001b[0;32mNone\u001b[0m\u001b[0;34m)\u001b[0m\u001b[0;34m:\u001b[0m\u001b[0;34m\u001b[0m\u001b[0;34m\u001b[0m\u001b[0m\n",
      "\u001b[0;31mSMTPAuthenticationError\u001b[0m: (535, b'5.7.8 Username and Password not accepted. Learn more at\\n5.7.8  https://support.google.com/mail/?p=BadCredentials k17-20020a170902c41100b0017f8094a52asm6880315plk.29 - gsmtp')"
     ]
    }
   ],
   "source": [
    "import smtplib \n",
    "\n",
    "smtpObj = smtplib.SMTP(\"smtp.gmail.com\",\"587\")\n",
    "smtpObj.ehlo()\n",
    "smtpObj.starttls()\n",
    "smtpObj.login(\"patnaik_vineet\",\"Venky0121\")\n",
    "smtpObj.sendmail(\"patnaik_vineet@yahoo.com\",\"parthxmm@gmail.com\",\"Welcome\")\n",
    "smtpObj.quit()"
   ]
  },
  {
   "cell_type": "code",
   "execution_count": null,
   "id": "245a0496",
   "metadata": {},
   "outputs": [],
   "source": []
  }
 ],
 "metadata": {
  "kernelspec": {
   "display_name": "Python 3 (ipykernel)",
   "language": "python",
   "name": "python3"
  },
  "language_info": {
   "codemirror_mode": {
    "name": "ipython",
    "version": 3
   },
   "file_extension": ".py",
   "mimetype": "text/x-python",
   "name": "python",
   "nbconvert_exporter": "python",
   "pygments_lexer": "ipython3",
   "version": "3.9.7"
  }
 },
 "nbformat": 4,
 "nbformat_minor": 5
}
